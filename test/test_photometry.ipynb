{
 "cells": [
  {
   "cell_type": "markdown",
   "metadata": {},
   "source": [
    "# Use Kurukz"
   ]
  },
  {
   "cell_type": "code",
   "execution_count": 1,
   "metadata": {},
   "outputs": [],
   "source": [
    "from dustapprox.io import svo\n",
    "import numpy as np\n",
    "import pickle\n",
    "from scipy.interpolate import CubicSpline\n",
    "from scipy.interpolate import RegularGridInterpolator\n",
    "import extinction as ext\n",
    "from astropy.constants import R_sun,pc\n",
    "import matplotlib.pyplot as plt"
   ]
  },
  {
   "cell_type": "code",
   "execution_count": 2,
   "metadata": {},
   "outputs": [],
   "source": [
    "which_filters = ['GAIA/GAIA3.G','GAIA/GAIA3.Gbp', 'GAIA/GAIA3.Grp','2MASS/2MASS.J', '2MASS/2MASS.H', '2MASS/2MASS.Ks','WISE/WISE.W1','WISE/WISE.W2']\n",
    "passbands = svo.get_svo_passbands(which_filters)\n",
    "pb_interp=[]\n",
    "\n",
    "for pb in passbands:\n",
    "    pb_interp.append(CubicSpline(np.array(pb.wavelength)*10,pb.transmit,extrapolate=False))\n",
    "\n",
    "passband_zeropoint_vega=np.array([pk.Vega_zero_flux.value for pk in passbands])\n"
   ]
  },
  {
   "cell_type": "code",
   "execution_count": 3,
   "metadata": {},
   "outputs": [],
   "source": [
    "from glob import glob\n",
    "\n",
    "loc='/Users/mattocallaghan/VaeStar/Isochrones_data/Kurucz2003all/*.fl.dat.txt'\n",
    "models = glob(loc)"
   ]
  },
  {
   "cell_type": "code",
   "execution_count": 4,
   "metadata": {},
   "outputs": [],
   "source": [
    "import astropy.units as u"
   ]
  },
  {
   "cell_type": "code",
   "execution_count": 5,
   "metadata": {},
   "outputs": [
    {
     "ename": "UnitConversionError",
     "evalue": "'erg' (energy/torque/work) and 'flam' (power density/spectral flux density wav) are not convertible",
     "output_type": "error",
     "traceback": [
      "\u001b[0;31m---------------------------------------------------------------------------\u001b[0m",
      "\u001b[0;31mUnitConversionError\u001b[0m                       Traceback (most recent call last)",
      "Cell \u001b[0;32mIn[5], line 1\u001b[0m\n\u001b[0;32m----> 1\u001b[0m \u001b[43mpassbands\u001b[49m\u001b[43m[\u001b[49m\u001b[38;5;241;43m0\u001b[39;49m\u001b[43m]\u001b[49m\u001b[38;5;241;43m.\u001b[39;49m\u001b[43mget_flux\u001b[49m\u001b[43m(\u001b[49m\u001b[43mnp\u001b[49m\u001b[38;5;241;43m.\u001b[39;49m\u001b[43mlinspace\u001b[49m\u001b[43m(\u001b[49m\u001b[38;5;241;43m0\u001b[39;49m\u001b[43m,\u001b[49m\u001b[38;5;241;43m10000\u001b[39;49m\u001b[43m,\u001b[49m\u001b[38;5;241;43m10000\u001b[39;49m\u001b[43m)\u001b[49m\u001b[38;5;241;43m*\u001b[39;49m\u001b[43mu\u001b[49m\u001b[38;5;241;43m.\u001b[39;49m\u001b[43mnm\u001b[49m\u001b[43m,\u001b[49m\u001b[38;5;241;43m1\u001b[39;49m\u001b[38;5;241;43m*\u001b[39;49m\u001b[43mnp\u001b[49m\u001b[38;5;241;43m.\u001b[39;49m\u001b[43mlinspace\u001b[49m\u001b[43m(\u001b[49m\u001b[38;5;241;43m0\u001b[39;49m\u001b[43m,\u001b[49m\u001b[38;5;241;43m10000\u001b[39;49m\u001b[43m,\u001b[49m\u001b[38;5;241;43m10000\u001b[39;49m\u001b[43m)\u001b[49m\u001b[38;5;241;43m*\u001b[39;49m\u001b[43mu\u001b[49m\u001b[38;5;241;43m.\u001b[39;49m\u001b[43merg\u001b[49m\u001b[43m)\u001b[49m\n",
      "File \u001b[0;32m/opt/homebrew/Caskroom/miniforge/base/envs/astro/lib/python3.8/site-packages/pyphot/astropy/sandbox.py:87\u001b[0m, in \u001b[0;36mset_method_default_units.__call__.<locals>.wrapper\u001b[0;34m(filter_, slamb, sflux, *args, **kwargs)\u001b[0m\n\u001b[1;32m     <a href='file:///opt/homebrew/Caskroom/miniforge/base/envs/astro/lib/python3.8/site-packages/pyphot/astropy/sandbox.py?line=82'>83</a>\u001b[0m \u001b[39m@wraps\u001b[39m(func)\n\u001b[1;32m     <a href='file:///opt/homebrew/Caskroom/miniforge/base/envs/astro/lib/python3.8/site-packages/pyphot/astropy/sandbox.py?line=83'>84</a>\u001b[0m \u001b[39mdef\u001b[39;00m \u001b[39mwrapper\u001b[39m(filter_, slamb, sflux, \u001b[39m*\u001b[39margs, \u001b[39m*\u001b[39m\u001b[39m*\u001b[39mkwargs):\n\u001b[1;32m     <a href='file:///opt/homebrew/Caskroom/miniforge/base/envs/astro/lib/python3.8/site-packages/pyphot/astropy/sandbox.py?line=84'>85</a>\u001b[0m     _slamb \u001b[39m=\u001b[39m set_method_default_units\u001b[39m.\u001b[39mforce_units(slamb,\n\u001b[1;32m     <a href='file:///opt/homebrew/Caskroom/miniforge/base/envs/astro/lib/python3.8/site-packages/pyphot/astropy/sandbox.py?line=85'>86</a>\u001b[0m                                                   \u001b[39mself\u001b[39m\u001b[39m.\u001b[39mwavelength_unit)\n\u001b[0;32m---> <a href='file:///opt/homebrew/Caskroom/miniforge/base/envs/astro/lib/python3.8/site-packages/pyphot/astropy/sandbox.py?line=86'>87</a>\u001b[0m     _sflux \u001b[39m=\u001b[39m set_method_default_units\u001b[39m.\u001b[39;49mforce_units(sflux,\n\u001b[1;32m     <a href='file:///opt/homebrew/Caskroom/miniforge/base/envs/astro/lib/python3.8/site-packages/pyphot/astropy/sandbox.py?line=87'>88</a>\u001b[0m                                                   \u001b[39mself\u001b[39;49m\u001b[39m.\u001b[39;49mflux_unit)\n\u001b[1;32m     <a href='file:///opt/homebrew/Caskroom/miniforge/base/envs/astro/lib/python3.8/site-packages/pyphot/astropy/sandbox.py?line=88'>89</a>\u001b[0m     output \u001b[39m=\u001b[39m func(filter_, _slamb, _sflux, \u001b[39m*\u001b[39margs, \u001b[39m*\u001b[39m\u001b[39m*\u001b[39mkwargs)\n\u001b[1;32m     <a href='file:///opt/homebrew/Caskroom/miniforge/base/envs/astro/lib/python3.8/site-packages/pyphot/astropy/sandbox.py?line=89'>90</a>\u001b[0m     \u001b[39mreturn\u001b[39;00m set_method_default_units\u001b[39m.\u001b[39mforce_units(output,\n\u001b[1;32m     <a href='file:///opt/homebrew/Caskroom/miniforge/base/envs/astro/lib/python3.8/site-packages/pyphot/astropy/sandbox.py?line=90'>91</a>\u001b[0m                                                 \u001b[39mself\u001b[39m\u001b[39m.\u001b[39moutput_unit)\n",
      "File \u001b[0;32m/opt/homebrew/Caskroom/miniforge/base/envs/astro/lib/python3.8/site-packages/pyphot/astropy/sandbox.py:75\u001b[0m, in \u001b[0;36mset_method_default_units.force_units\u001b[0;34m(cls, value, unit)\u001b[0m\n\u001b[1;32m     <a href='file:///opt/homebrew/Caskroom/miniforge/base/envs/astro/lib/python3.8/site-packages/pyphot/astropy/sandbox.py?line=72'>73</a>\u001b[0m     \u001b[39mreturn\u001b[39;00m value\n\u001b[1;32m     <a href='file:///opt/homebrew/Caskroom/miniforge/base/envs/astro/lib/python3.8/site-packages/pyphot/astropy/sandbox.py?line=73'>74</a>\u001b[0m \u001b[39mtry\u001b[39;00m:\n\u001b[0;32m---> <a href='file:///opt/homebrew/Caskroom/miniforge/base/envs/astro/lib/python3.8/site-packages/pyphot/astropy/sandbox.py?line=74'>75</a>\u001b[0m     \u001b[39mreturn\u001b[39;00m value\u001b[39m.\u001b[39;49mto(unit)\n\u001b[1;32m     <a href='file:///opt/homebrew/Caskroom/miniforge/base/envs/astro/lib/python3.8/site-packages/pyphot/astropy/sandbox.py?line=75'>76</a>\u001b[0m \u001b[39mexcept\u001b[39;00m \u001b[39mAttributeError\u001b[39;00m:\n\u001b[1;32m     <a href='file:///opt/homebrew/Caskroom/miniforge/base/envs/astro/lib/python3.8/site-packages/pyphot/astropy/sandbox.py?line=76'>77</a>\u001b[0m     msg \u001b[39m=\u001b[39m \u001b[39m'\u001b[39m\u001b[39mWarning: assuming \u001b[39m\u001b[39m{0:s}\u001b[39;00m\u001b[39m units to unitless object.\u001b[39m\u001b[39m'\u001b[39m\n",
      "File \u001b[0;32m/opt/homebrew/Caskroom/miniforge/base/envs/astro/lib/python3.8/site-packages/astropy/units/quantity.py:915\u001b[0m, in \u001b[0;36mQuantity.to\u001b[0;34m(self, unit, equivalencies, copy)\u001b[0m\n\u001b[1;32m    <a href='file:///opt/homebrew/Caskroom/miniforge/base/envs/astro/lib/python3.8/site-packages/astropy/units/quantity.py?line=910'>911</a>\u001b[0m unit \u001b[39m=\u001b[39m Unit(unit)\n\u001b[1;32m    <a href='file:///opt/homebrew/Caskroom/miniforge/base/envs/astro/lib/python3.8/site-packages/astropy/units/quantity.py?line=911'>912</a>\u001b[0m \u001b[39mif\u001b[39;00m copy:\n\u001b[1;32m    <a href='file:///opt/homebrew/Caskroom/miniforge/base/envs/astro/lib/python3.8/site-packages/astropy/units/quantity.py?line=912'>913</a>\u001b[0m     \u001b[39m# Avoid using to_value to ensure that we make a copy. We also\u001b[39;00m\n\u001b[1;32m    <a href='file:///opt/homebrew/Caskroom/miniforge/base/envs/astro/lib/python3.8/site-packages/astropy/units/quantity.py?line=913'>914</a>\u001b[0m     \u001b[39m# don't want to slow down this method (esp. the scalar case).\u001b[39;00m\n\u001b[0;32m--> <a href='file:///opt/homebrew/Caskroom/miniforge/base/envs/astro/lib/python3.8/site-packages/astropy/units/quantity.py?line=914'>915</a>\u001b[0m     value \u001b[39m=\u001b[39m \u001b[39mself\u001b[39;49m\u001b[39m.\u001b[39;49m_to_value(unit, equivalencies)\n\u001b[1;32m    <a href='file:///opt/homebrew/Caskroom/miniforge/base/envs/astro/lib/python3.8/site-packages/astropy/units/quantity.py?line=915'>916</a>\u001b[0m \u001b[39melse\u001b[39;00m:\n\u001b[1;32m    <a href='file:///opt/homebrew/Caskroom/miniforge/base/envs/astro/lib/python3.8/site-packages/astropy/units/quantity.py?line=916'>917</a>\u001b[0m     \u001b[39m# to_value only copies if necessary\u001b[39;00m\n\u001b[1;32m    <a href='file:///opt/homebrew/Caskroom/miniforge/base/envs/astro/lib/python3.8/site-packages/astropy/units/quantity.py?line=917'>918</a>\u001b[0m     value \u001b[39m=\u001b[39m \u001b[39mself\u001b[39m\u001b[39m.\u001b[39mto_value(unit, equivalencies)\n",
      "File \u001b[0;32m/opt/homebrew/Caskroom/miniforge/base/envs/astro/lib/python3.8/site-packages/astropy/units/quantity.py:868\u001b[0m, in \u001b[0;36mQuantity._to_value\u001b[0;34m(self, unit, equivalencies)\u001b[0m\n\u001b[1;32m    <a href='file:///opt/homebrew/Caskroom/miniforge/base/envs/astro/lib/python3.8/site-packages/astropy/units/quantity.py?line=864'>865</a>\u001b[0m     equivalencies \u001b[39m=\u001b[39m \u001b[39mself\u001b[39m\u001b[39m.\u001b[39m_equivalencies\n\u001b[1;32m    <a href='file:///opt/homebrew/Caskroom/miniforge/base/envs/astro/lib/python3.8/site-packages/astropy/units/quantity.py?line=865'>866</a>\u001b[0m \u001b[39mif\u001b[39;00m \u001b[39mnot\u001b[39;00m \u001b[39mself\u001b[39m\u001b[39m.\u001b[39mdtype\u001b[39m.\u001b[39mnames \u001b[39mor\u001b[39;00m \u001b[39misinstance\u001b[39m(\u001b[39mself\u001b[39m\u001b[39m.\u001b[39munit, StructuredUnit):\n\u001b[1;32m    <a href='file:///opt/homebrew/Caskroom/miniforge/base/envs/astro/lib/python3.8/site-packages/astropy/units/quantity.py?line=866'>867</a>\u001b[0m     \u001b[39m# Standard path, let unit to do work.\u001b[39;00m\n\u001b[0;32m--> <a href='file:///opt/homebrew/Caskroom/miniforge/base/envs/astro/lib/python3.8/site-packages/astropy/units/quantity.py?line=867'>868</a>\u001b[0m     \u001b[39mreturn\u001b[39;00m \u001b[39mself\u001b[39;49m\u001b[39m.\u001b[39;49munit\u001b[39m.\u001b[39;49mto(\n\u001b[1;32m    <a href='file:///opt/homebrew/Caskroom/miniforge/base/envs/astro/lib/python3.8/site-packages/astropy/units/quantity.py?line=868'>869</a>\u001b[0m         unit, \u001b[39mself\u001b[39;49m\u001b[39m.\u001b[39;49mview(np\u001b[39m.\u001b[39;49mndarray), equivalencies\u001b[39m=\u001b[39;49mequivalencies\n\u001b[1;32m    <a href='file:///opt/homebrew/Caskroom/miniforge/base/envs/astro/lib/python3.8/site-packages/astropy/units/quantity.py?line=869'>870</a>\u001b[0m     )\n\u001b[1;32m    <a href='file:///opt/homebrew/Caskroom/miniforge/base/envs/astro/lib/python3.8/site-packages/astropy/units/quantity.py?line=871'>872</a>\u001b[0m \u001b[39melse\u001b[39;00m:\n\u001b[1;32m    <a href='file:///opt/homebrew/Caskroom/miniforge/base/envs/astro/lib/python3.8/site-packages/astropy/units/quantity.py?line=872'>873</a>\u001b[0m     \u001b[39m# The .to() method of a simple unit cannot convert a structured\u001b[39;00m\n\u001b[1;32m    <a href='file:///opt/homebrew/Caskroom/miniforge/base/envs/astro/lib/python3.8/site-packages/astropy/units/quantity.py?line=873'>874</a>\u001b[0m     \u001b[39m# dtype, so we work around it, by recursing.\u001b[39;00m\n\u001b[1;32m    <a href='file:///opt/homebrew/Caskroom/miniforge/base/envs/astro/lib/python3.8/site-packages/astropy/units/quantity.py?line=874'>875</a>\u001b[0m     \u001b[39m# TODO: deprecate this?\u001b[39;00m\n\u001b[1;32m    <a href='file:///opt/homebrew/Caskroom/miniforge/base/envs/astro/lib/python3.8/site-packages/astropy/units/quantity.py?line=875'>876</a>\u001b[0m     \u001b[39m# Convert simple to Structured on initialization?\u001b[39;00m\n\u001b[1;32m    <a href='file:///opt/homebrew/Caskroom/miniforge/base/envs/astro/lib/python3.8/site-packages/astropy/units/quantity.py?line=876'>877</a>\u001b[0m     result \u001b[39m=\u001b[39m np\u001b[39m.\u001b[39mempty_like(\u001b[39mself\u001b[39m\u001b[39m.\u001b[39mview(np\u001b[39m.\u001b[39mndarray))\n",
      "File \u001b[0;32m/opt/homebrew/Caskroom/miniforge/base/envs/astro/lib/python3.8/site-packages/astropy/units/core.py:1165\u001b[0m, in \u001b[0;36mUnitBase.to\u001b[0;34m(self, other, value, equivalencies)\u001b[0m\n\u001b[1;32m   <a href='file:///opt/homebrew/Caskroom/miniforge/base/envs/astro/lib/python3.8/site-packages/astropy/units/core.py?line=1162'>1163</a>\u001b[0m     \u001b[39mreturn\u001b[39;00m UNITY\n\u001b[1;32m   <a href='file:///opt/homebrew/Caskroom/miniforge/base/envs/astro/lib/python3.8/site-packages/astropy/units/core.py?line=1163'>1164</a>\u001b[0m \u001b[39melse\u001b[39;00m:\n\u001b[0;32m-> <a href='file:///opt/homebrew/Caskroom/miniforge/base/envs/astro/lib/python3.8/site-packages/astropy/units/core.py?line=1164'>1165</a>\u001b[0m     \u001b[39mreturn\u001b[39;00m \u001b[39mself\u001b[39;49m\u001b[39m.\u001b[39;49m_get_converter(Unit(other), equivalencies)(value)\n",
      "File \u001b[0;32m/opt/homebrew/Caskroom/miniforge/base/envs/astro/lib/python3.8/site-packages/astropy/units/core.py:1094\u001b[0m, in \u001b[0;36mUnitBase._get_converter\u001b[0;34m(self, other, equivalencies)\u001b[0m\n\u001b[1;32m   <a href='file:///opt/homebrew/Caskroom/miniforge/base/envs/astro/lib/python3.8/site-packages/astropy/units/core.py?line=1090'>1091</a>\u001b[0m             \u001b[39melse\u001b[39;00m:\n\u001b[1;32m   <a href='file:///opt/homebrew/Caskroom/miniforge/base/envs/astro/lib/python3.8/site-packages/astropy/units/core.py?line=1091'>1092</a>\u001b[0m                 \u001b[39mreturn\u001b[39;00m \u001b[39mlambda\u001b[39;00m v: b(converter(v))\n\u001b[0;32m-> <a href='file:///opt/homebrew/Caskroom/miniforge/base/envs/astro/lib/python3.8/site-packages/astropy/units/core.py?line=1093'>1094</a>\u001b[0m \u001b[39mraise\u001b[39;00m exc\n",
      "File \u001b[0;32m/opt/homebrew/Caskroom/miniforge/base/envs/astro/lib/python3.8/site-packages/astropy/units/core.py:1077\u001b[0m, in \u001b[0;36mUnitBase._get_converter\u001b[0;34m(self, other, equivalencies)\u001b[0m\n\u001b[1;32m   <a href='file:///opt/homebrew/Caskroom/miniforge/base/envs/astro/lib/python3.8/site-packages/astropy/units/core.py?line=1074'>1075</a>\u001b[0m \u001b[39m# if that doesn't work, maybe we can do it with equivalencies?\u001b[39;00m\n\u001b[1;32m   <a href='file:///opt/homebrew/Caskroom/miniforge/base/envs/astro/lib/python3.8/site-packages/astropy/units/core.py?line=1075'>1076</a>\u001b[0m \u001b[39mtry\u001b[39;00m:\n\u001b[0;32m-> <a href='file:///opt/homebrew/Caskroom/miniforge/base/envs/astro/lib/python3.8/site-packages/astropy/units/core.py?line=1076'>1077</a>\u001b[0m     \u001b[39mreturn\u001b[39;00m \u001b[39mself\u001b[39;49m\u001b[39m.\u001b[39;49m_apply_equivalencies(\n\u001b[1;32m   <a href='file:///opt/homebrew/Caskroom/miniforge/base/envs/astro/lib/python3.8/site-packages/astropy/units/core.py?line=1077'>1078</a>\u001b[0m         \u001b[39mself\u001b[39;49m, other, \u001b[39mself\u001b[39;49m\u001b[39m.\u001b[39;49m_normalize_equivalencies(equivalencies)\n\u001b[1;32m   <a href='file:///opt/homebrew/Caskroom/miniforge/base/envs/astro/lib/python3.8/site-packages/astropy/units/core.py?line=1078'>1079</a>\u001b[0m     )\n\u001b[1;32m   <a href='file:///opt/homebrew/Caskroom/miniforge/base/envs/astro/lib/python3.8/site-packages/astropy/units/core.py?line=1079'>1080</a>\u001b[0m \u001b[39mexcept\u001b[39;00m UnitsError \u001b[39mas\u001b[39;00m exc:\n\u001b[1;32m   <a href='file:///opt/homebrew/Caskroom/miniforge/base/envs/astro/lib/python3.8/site-packages/astropy/units/core.py?line=1080'>1081</a>\u001b[0m     \u001b[39m# Last hope: maybe other knows how to do it?\u001b[39;00m\n\u001b[1;32m   <a href='file:///opt/homebrew/Caskroom/miniforge/base/envs/astro/lib/python3.8/site-packages/astropy/units/core.py?line=1081'>1082</a>\u001b[0m     \u001b[39m# We assume the equivalencies have the unit itself as first item.\u001b[39;00m\n\u001b[1;32m   <a href='file:///opt/homebrew/Caskroom/miniforge/base/envs/astro/lib/python3.8/site-packages/astropy/units/core.py?line=1082'>1083</a>\u001b[0m     \u001b[39m# TODO: maybe better for other to have a `_back_converter` method?\u001b[39;00m\n\u001b[1;32m   <a href='file:///opt/homebrew/Caskroom/miniforge/base/envs/astro/lib/python3.8/site-packages/astropy/units/core.py?line=1083'>1084</a>\u001b[0m     \u001b[39mif\u001b[39;00m \u001b[39mhasattr\u001b[39m(other, \u001b[39m\"\u001b[39m\u001b[39mequivalencies\u001b[39m\u001b[39m\"\u001b[39m):\n",
      "File \u001b[0;32m/opt/homebrew/Caskroom/miniforge/base/envs/astro/lib/python3.8/site-packages/astropy/units/core.py:1054\u001b[0m, in \u001b[0;36mUnitBase._apply_equivalencies\u001b[0;34m(self, unit, other, equivalencies)\u001b[0m\n\u001b[1;32m   <a href='file:///opt/homebrew/Caskroom/miniforge/base/envs/astro/lib/python3.8/site-packages/astropy/units/core.py?line=1050'>1051</a>\u001b[0m unit_str \u001b[39m=\u001b[39m get_err_str(unit)\n\u001b[1;32m   <a href='file:///opt/homebrew/Caskroom/miniforge/base/envs/astro/lib/python3.8/site-packages/astropy/units/core.py?line=1051'>1052</a>\u001b[0m other_str \u001b[39m=\u001b[39m get_err_str(other)\n\u001b[0;32m-> <a href='file:///opt/homebrew/Caskroom/miniforge/base/envs/astro/lib/python3.8/site-packages/astropy/units/core.py?line=1053'>1054</a>\u001b[0m \u001b[39mraise\u001b[39;00m UnitConversionError(\u001b[39mf\u001b[39m\u001b[39m\"\u001b[39m\u001b[39m{\u001b[39;00munit_str\u001b[39m}\u001b[39;00m\u001b[39m and \u001b[39m\u001b[39m{\u001b[39;00mother_str\u001b[39m}\u001b[39;00m\u001b[39m are not convertible\u001b[39m\u001b[39m\"\u001b[39m)\n",
      "\u001b[0;31mUnitConversionError\u001b[0m: 'erg' (energy/torque/work) and 'flam' (power density/spectral flux density wav) are not convertible"
     ]
    }
   ],
   "source": [
    "passbands[0].get_flux(np.linspace(0,10000,10000)*u.nm,1*np.linspace(0,10000,10000)*u.erg)"
   ]
  },
  {
   "cell_type": "code",
   "execution_count": null,
   "metadata": {},
   "outputs": [
    {
     "data": {
      "text/plain": [
       "31732.36174144315"
      ]
     },
     "execution_count": 26,
     "metadata": {},
     "output_type": "execute_result"
    }
   ],
   "source": [
    "passbands[0].apply_transmission(np.linspace(0,10000,1000000)*u.nm,1).sum()"
   ]
  },
  {
   "cell_type": "code",
   "execution_count": null,
   "metadata": {},
   "outputs": [],
   "source": [
    "import astropy.units as u"
   ]
  },
  {
   "cell_type": "code",
   "execution_count": null,
   "metadata": {},
   "outputs": [
    {
     "data": {
      "text/plain": [
       "(0.0, 10000.0)"
      ]
     },
     "execution_count": 57,
     "metadata": {},
     "output_type": "execute_result"
    },
    {
     "data": {
      "image/png": "[encoded data removed]",
      "text/plain": [
       "<Figure size 640x480 with 1 Axes>"
      ]
     },
     "metadata": {},
     "output_type": "display_data"
    }
   ],
   "source": [
    "#plt.plot(wl[700],fluxes[700]*u.)\n",
    "plt.plot(passbands[0].wavelength*10,passbands[0].transmit)\n",
    "plt.xlim(0,10000)"
   ]
  },
  {
   "cell_type": "code",
   "execution_count": null,
   "metadata": {},
   "outputs": [
    {
     "data": {
      "text/plain": [
       "'nm'"
      ]
     },
     "execution_count": 48,
     "metadata": {},
     "output_type": "execute_result"
    }
   ],
   "source": [
    "passbands[0].wavelength_unit"
   ]
  },
  {
   "cell_type": "code",
   "execution_count": null,
   "metadata": {},
   "outputs": [
    {
     "data": {
      "text/plain": [
       "array([2.50649433e-09, 4.06966690e-09, 1.27871752e-09, 3.14212353e-10,\n",
       "       1.14415173e-10, 4.30549622e-11, 8.23825931e-12, 2.43140823e-12])"
      ]
     },
     "execution_count": 50,
     "metadata": {},
     "output_type": "execute_result"
    }
   ],
   "source": [
    "np.array([passband.Vega_zero_flux.value for passband in passbands])"
   ]
  },
  {
   "cell_type": "code",
   "execution_count": null,
   "metadata": {},
   "outputs": [
    {
     "data": {
      "text/plain": [
       "[<matplotlib.lines.Line2D at 0x164709280>]"
      ]
     },
     "execution_count": 74,
     "metadata": {},
     "output_type": "execute_result"
    },
    {
     "data": {
      "image/png": "[encoded data removed]",
      "text/plain": [
       "<Figure size 640x480 with 1 Axes>"
      ]
     },
     "metadata": {},
     "output_type": "display_data"
    }
   ],
   "source": [
    "plt.plot(passbands[0].wavelength,pb_interp[0](passbands[0].wavelength))\n",
    "plt.plot(passbands[0].wavelength,passbands[0].transmit-pb_interp[0](passbands[0].wavelength))"
   ]
  },
  {
   "cell_type": "code",
   "execution_count": null,
   "metadata": {},
   "outputs": [],
   "source": [
    "passbands[0].get_flux()"
   ]
  },
  {
   "cell_type": "code",
   "execution_count": null,
   "metadata": {},
   "outputs": [
    {
     "data": {
      "text/plain": [
       "[<matplotlib.lines.Line2D at 0x16476c3d0>]"
      ]
     },
     "execution_count": 66,
     "metadata": {},
     "output_type": "execute_result"
    },
    {
     "data": {
      "image/png": "[encoded data removed]",
      "text/plain": [
       "<Figure size 640x480 with 1 Axes>"
      ]
     },
     "metadata": {},
     "output_type": "display_data"
    }
   ],
   "source": [
    "plt.plot(passbands[0].apply_transmission(wl[30]*lamb_unit,fluxes[30]))\n",
    "plt.plot(wl[30]*lamb_unit,fluxes[30]*pb_interp[0](wl[30]*lamb_unit))"
   ]
  },
  {
   "cell_type": "code",
   "execution_count": null,
   "metadata": {},
   "outputs": [],
   "source": [
    "from glob import glob\n",
    "\n",
    "loc='/Users/mattocallaghan/VaeStar/Isochrones_data/Kurucz2003all/*.fl.dat.txt'\n",
    "models = glob(loc)\n",
    "apfields = ['teff', 'logg', 'feh', 'alpha']\n",
    "wl=[]\n",
    "fehs=[]\n",
    "logg=[]\n",
    "teff=[]\n",
    "fluxes=[]\n",
    "\n",
    "label = 'teff={teff:4g} K, logg={logg:0.1g} dex, [Fe/H]={feh:0.1g} dex'\n",
    "for fname in models[0:1]:\n",
    "    data = svo.spectra_file_reader(fname)\n",
    "    lamb_unit, flux_unit = svo.get_svo_sprectum_units(data)\n",
    "\n",
    "    lamb = data['data']['WAVELENGTH'].values * lamb_unit\n",
    "    truth=(data['data']['WAVELENGTH']<60000)*(data['data']['WAVELENGTH']>2000)\n",
    "    data['data'][truth]\n",
    "    if(data['alpha']['value']==0.0):\n",
    "        wl.append(data['data'][truth]['WAVELENGTH'].values)#.reshape(-1, 2).mean(-1))\n",
    "        fluxes.append(data['data'][truth]['FLUX'].values)#.reshape(-1, 2).mean(-1))\n",
    "        fehs.append(data['feh']['value'])\n",
    "        logg.append(data['logg']['value'])\n",
    "        teff.append(data['teff']['value'])\n",
    "        #flux=flux*curves[1](data['data']['WAVELENGTH'].values * lamb_unit,av,Rv=Rv)"
   ]
  },
  {
   "cell_type": "code",
   "execution_count": null,
   "metadata": {},
   "outputs": [
    {
     "data": {
      "text/latex": [
       "$\\mathrm{\\frac{erg}{\\mathring{A}\\,s\\,cm^{2}}}$"
      ],
      "text/plain": [
       "Unit(\"erg / (Angstrom cm2 s)\")"
      ]
     },
     "execution_count": 42,
     "metadata": {},
     "output_type": "execute_result"
    }
   ],
   "source": [
    "flux_unit"
   ]
  },
  {
   "cell_type": "code",
   "execution_count": null,
   "metadata": {},
   "outputs": [
    {
     "ename": "IndexError",
     "evalue": "list index out of range",
     "output_type": "error",
     "traceback": [
      "\u001b[0;31m---------------------------------------------------------------------------\u001b[0m",
      "\u001b[0;31mIndexError\u001b[0m                                Traceback (most recent call last)",
      "Cell \u001b[0;32mIn[30], line 33\u001b[0m\n\u001b[1;32m     31\u001b[0m teff_unique\u001b[38;5;241m=\u001b[39mnp\u001b[38;5;241m.\u001b[39munique(np\u001b[38;5;241m.\u001b[39marray(teff))\n\u001b[1;32m     32\u001b[0m parameters\u001b[38;5;241m=\u001b[39mnp\u001b[38;5;241m.\u001b[39mstack(np\u001b[38;5;241m.\u001b[39mmeshgrid(feh_unique,logg_unique,teff_unique,indexing\u001b[38;5;241m=\u001b[39m\u001b[38;5;124m'\u001b[39m\u001b[38;5;124mij\u001b[39m\u001b[38;5;124m'\u001b[39m),axis\u001b[38;5;241m=\u001b[39m\u001b[38;5;241m-\u001b[39m\u001b[38;5;241m1\u001b[39m)\n\u001b[0;32m---> 33\u001b[0m flux_grid\u001b[38;5;241m=\u001b[39m(np\u001b[38;5;241m.\u001b[39mzeros((parameters\u001b[38;5;241m.\u001b[39mshape[:\u001b[38;5;241m-\u001b[39m\u001b[38;5;241m1\u001b[39m]\u001b[38;5;241m+\u001b[39m(\u001b[38;5;28mlen\u001b[39m(\u001b[43mwl\u001b[49m\u001b[43m[\u001b[49m\u001b[38;5;241;43m0\u001b[39;49m\u001b[43m]\u001b[49m),)))\u001b[38;5;241m*\u001b[39mnp\u001b[38;5;241m.\u001b[39mNaN)\n\u001b[1;32m     34\u001b[0m indices\u001b[38;5;241m=\u001b[39m[]\n\u001b[1;32m     35\u001b[0m \u001b[38;5;28;01mfor\u001b[39;00m i,j,k \u001b[38;5;129;01min\u001b[39;00m np\u001b[38;5;241m.\u001b[39mndindex((parameters\u001b[38;5;241m.\u001b[39mshape[\u001b[38;5;241m0\u001b[39m:\u001b[38;5;241m-\u001b[39m\u001b[38;5;241m1\u001b[39m])):\n",
      "\u001b[0;31mIndexError\u001b[0m: list index out of range"
     ]
    }
   ],
   "source": [
    "\n",
    "  \n",
    "pars=np.stack([np.array(fehs),np.array(logg),np.array(teff)]).T\n",
    "feh_unique=np.unique(np.array(fehs))\n",
    "logg_unique=np.unique(np.array(logg))\n",
    "teff_unique=np.unique(np.array(teff))\n",
    "parameters=np.stack(np.meshgrid(feh_unique,logg_unique,teff_unique,indexing='ij'),axis=-1)\n",
    "flux_grid=(np.zeros((parameters.shape[:-1]+(len(wl[0]),)))*np.NaN)\n",
    "indices=[]\n",
    "for i,j,k in np.ndindex((parameters.shape[0:-1])):\n",
    "    try:\n",
    "        idx=np.where([(np.prod(pars[_]==parameters[i,j,k])) for _ in range(len(pars))])[0]\n",
    "        \n",
    "        flux_grid[i,j,k]=fluxes[int(idx)]\n",
    "        indices.append(np.array([i,j,k]))\n",
    "    except:\n",
    "        continue\n",
    "\n",
    "interp=RegularGridInterpolator((feh_unique,logg_unique,teff_unique),flux_grid,method='linear',\n",
    "                                bounds_error=False, fill_value=np.NaN)   "
   ]
  },
  {
   "cell_type": "code",
   "execution_count": null,
   "metadata": {},
   "outputs": [
    {
     "data": {
      "text/latex": [
       "$\\mathrm{\\frac{erg}{\\mathring{A}\\,s\\,cm^{2}}}$"
      ],
      "text/plain": [
       "Unit(\"erg / (Angstrom cm2 s)\")"
      ]
     },
     "execution_count": 39,
     "metadata": {},
     "output_type": "execute_result"
    }
   ],
   "source": [
    "flux_unit"
   ]
  },
  {
   "cell_type": "code",
   "execution_count": null,
   "metadata": {},
   "outputs": [
    {
     "data": {
      "text/html": [
       "<table style=\"width:50%\"><tr><th>Primary name</th><th>Unit definition</th><th>Aliases</th></tr><tr><td>ST</td><td>0.0363078 kg / (m s3)</td><td>STflux</td></tr><tr><td>flam</td><td>1e+07 kg / (m s3)</td><td></td></tr></table>"
      ],
      "text/plain": [
       "  Primary name | Unit definition       | Aliases\n",
       "[\n",
       "  ST           | 0.0363078 kg / (m s3) | STflux  ,\n",
       "  flam         | 1e+07 kg / (m s3)     |         ,\n",
       "]"
      ]
     },
     "execution_count": 36,
     "metadata": {},
     "output_type": "execute_result"
    }
   ],
   "source": [
    "flux_unit.find_equivalent_units()"
   ]
  },
  {
   "cell_type": "code",
   "execution_count": null,
   "metadata": {},
   "outputs": [],
   "source": [
    "pars=np.stack([np.array(fehs),np.array(logg),np.array(teff)]).T\n",
    "feh_unique=np.unique(np.array(fehs))\n",
    "logg_unique=np.unique(np.array(logg))\n",
    "teff_unique=np.unique(np.array(teff))\n",
    "parameters=np.stack(np.meshgrid(feh_unique,logg_unique,teff_unique,indexing='ij'),axis=-1)\n",
    "flux_grid=(np.zeros((parameters.shape[:-1]+(len(wl[0]),)))*np.NaN)"
   ]
  },
  {
   "cell_type": "code",
   "execution_count": null,
   "metadata": {},
   "outputs": [],
   "source": [
    "import astropy.units as u"
   ]
  },
  {
   "cell_type": "code",
   "execution_count": null,
   "metadata": {},
   "outputs": [
    {
     "data": {
      "text/plain": [
       "array([ 200.5,  201.5,  202.5,  203.5,  204.5,  205.5,  206.5,  207.4,\n",
       "        207.8,  208.5,  209.5,  210.5,  211.5,  212.5,  213.5,  214.5,\n",
       "        215.5,  216.5,  217.5,  218.5,  219.5,  220.5,  221.5,  222.5,\n",
       "        223.5,  224.5,  225.5,  226.5,  227.5,  228.5,  229.5,  230.5,\n",
       "        231.5,  232.5,  233.5,  234.5,  235.5,  236.5,  237.5,  238.5,\n",
       "        239.5,  240.5,  241.5,  242.5,  243.5,  244.5,  245.5,  246.5,\n",
       "        247.5,  248.5,  249.5,  250.5,  251.3,  251.8,  252.5,  253.5,\n",
       "        254.5,  255.5,  256.5,  257.5,  258.5,  259.5,  260.5,  261.5,\n",
       "        262.5,  263.5,  264.5,  265.5,  266.5,  267.5,  268.5,  269.5,\n",
       "        270.5,  271.5,  272.5,  273.5,  274.5,  275.5,  276.5,  277.5,\n",
       "        278.5,  279.5,  280.5,  281.5,  282.5,  283.5,  284.5,  285.5,\n",
       "        286.5,  287.5,  288.5,  289.5,  291. ,  293. ,  295. ,  297. ,\n",
       "        299. ,  301. ,  303. ,  305. ,  307. ,  309. ,  311. ,  313. ,\n",
       "        315. ,  317. ,  319. ,  321. ,  323. ,  325. ,  327. ,  329. ,\n",
       "        331. ,  333. ,  335. ,  337. ,  339. ,  341. ,  343. ,  345. ,\n",
       "        347. ,  349. ,  351. ,  353. ,  355. ,  357. ,  359. ,  361. ,\n",
       "        363. ,  364. ,  365. ,  367. ,  369. ,  371. ,  373. ,  375. ,\n",
       "        377. ,  379. ,  381. ,  383. ,  385. ,  387. ,  389. ,  391. ,\n",
       "        393. ,  395. ,  397. ,  399. ,  401. ,  403. ,  405. ,  407. ,\n",
       "        409. ,  411. ,  413. ,  415. ,  417. ,  419. ,  421. ,  423. ,\n",
       "        425. ,  427. ,  429. ,  431. ,  433. ,  435. ,  437. ,  439. ,\n",
       "        441. ,  443. ,  445. ,  447. ,  449. ,  451. ,  453. ,  455. ,\n",
       "        457. ,  459. ,  461. ,  463. ,  465. ,  467. ,  469. ,  471. ,\n",
       "        473. ,  475. ,  477. ,  479. ,  481. ,  483. ,  485. ,  487. ,\n",
       "        489. ,  491. ,  493. ,  495. ,  497. ,  499. ,  501. ,  503. ,\n",
       "        505. ,  507. ,  509. ,  511. ,  513. ,  515. ,  517. ,  519. ,\n",
       "        521. ,  523. ,  525. ,  527. ,  529. ,  531. ,  533. ,  535. ,\n",
       "        537. ,  539. ,  541. ,  543. ,  545. ,  547. ,  549. ,  551. ,\n",
       "        553. ,  555. ,  557. ,  559. ,  561. ,  563. ,  565. ,  567. ,\n",
       "        569. ,  571. ,  573. ,  575. ,  577. ,  579. ,  581. ,  583. ,\n",
       "        585. ,  587. ,  589. ,  591. ,  593. ,  595. ,  597. ,  599. ,\n",
       "        601. ,  603. ,  605. ,  607. ,  609. ,  611. ,  613. ,  615. ,\n",
       "        617. ,  619. ,  621. ,  623. ,  625. ,  627. ,  629. ,  631. ,\n",
       "        633. ,  635. ,  637. ,  639. ,  641. ,  643. ,  645. ,  647. ,\n",
       "        649. ,  651. ,  653. ,  655. ,  657. ,  659. ,  661. ,  663. ,\n",
       "        665. ,  667. ,  669. ,  671. ,  673. ,  675. ,  677. ,  679. ,\n",
       "        681. ,  683. ,  685. ,  687. ,  689. ,  691. ,  693. ,  695. ,\n",
       "        697. ,  699. ,  701. ,  703. ,  705. ,  707. ,  709. ,  711. ,\n",
       "        713. ,  715. ,  717. ,  719. ,  721. ,  723. ,  725. ,  727. ,\n",
       "        729. ,  731. ,  733. ,  735. ,  737. ,  739. ,  741. ,  743. ,\n",
       "        745. ,  747. ,  749. ,  751. ,  753. ,  755. ,  757. ,  759. ,\n",
       "        761. ,  763. ,  765. ,  767. ,  769. ,  771. ,  773. ,  775. ,\n",
       "        777. ,  779. ,  781. ,  783. ,  785. ,  787. ,  789. ,  791. ,\n",
       "        793. ,  795. ,  797. ,  799. ,  801. ,  803. ,  805. ,  807. ,\n",
       "        809. ,  811. ,  813. ,  815. ,  817. ,  819. ,  821. ,  823. ,\n",
       "        825. ,  827. ,  829. ,  831. ,  833. ,  835. ,  837. ,  839. ,\n",
       "        841. ,  843. ,  845. ,  847. ,  849. ,  851. ,  853. ,  855. ,\n",
       "        857. ,  859. ,  861. ,  863. ,  865. ,  867. ,  869. ,  871. ,\n",
       "        873. ,  875. ,  877. ,  879. ,  881. ,  883. ,  885. ,  887. ,\n",
       "        889. ,  891. ,  893. ,  895. ,  897. ,  899. ,  901. ,  903. ,\n",
       "        905. ,  907. ,  909. ,  911. ,  913. ,  915. ,  917. ,  919. ,\n",
       "        921. ,  923. ,  925. ,  927. ,  929. ,  931. ,  933. ,  935. ,\n",
       "        937. ,  939. ,  941. ,  943. ,  945. ,  947. ,  949. ,  951. ,\n",
       "        953. ,  955. ,  957. ,  959. ,  961. ,  963. ,  965. ,  967. ,\n",
       "        969. ,  971. ,  973. ,  975. ,  977. ,  979. ,  981. ,  983. ,\n",
       "        985. ,  987. ,  989. ,  991. ,  993. ,  995. ,  997. ,  999. ,\n",
       "       1002.5, 1007.5, 1012.5, 1017.5, 1022.5, 1027.5, 1032.5, 1037.5,\n",
       "       1042.5, 1047.5, 1052.5, 1057.5, 1062.5, 1067.5, 1072.5, 1077.5,\n",
       "       1082.5, 1087.5, 1092.5, 1097.5, 1102.5, 1107.5, 1112.5, 1117.5,\n",
       "       1122.5, 1127.5, 1132.5, 1137.5, 1142.5, 1147.5, 1152.5, 1157.5,\n",
       "       1162.5, 1167.5, 1172.5, 1177.5, 1182.5, 1187.5, 1192.5, 1197.5,\n",
       "       1202.5, 1207.5, 1212.5, 1217.5, 1222.5, 1227.5, 1232.5, 1237.5,\n",
       "       1242.5, 1247.5, 1252.5, 1257.5, 1262.5, 1267.5, 1272.5, 1277.5,\n",
       "       1282.5, 1287.5, 1292.5, 1297.5, 1302.5, 1307.5, 1312.5, 1317.5,\n",
       "       1322.5, 1327.5, 1332.5, 1337.5, 1342.5, 1347.5, 1352.5, 1357.5,\n",
       "       1362.5, 1367.5, 1372.5, 1377.5, 1382.5, 1387.5, 1392.5, 1397.5,\n",
       "       1402.5, 1407.5, 1412.5, 1417.5, 1422.5, 1427.5, 1432.5, 1437.5,\n",
       "       1442.5, 1447.5, 1452.5, 1457. , 1462. , 1467.5, 1472.5, 1477.5,\n",
       "       1482.5, 1487.5, 1492.5, 1497.5, 1502.5, 1507.5, 1512.5, 1517.5,\n",
       "       1522.5, 1527.5, 1532.5, 1537.5, 1542.5, 1547.5, 1552.5, 1557.5,\n",
       "       1562.5, 1567.5, 1572.5, 1577.5, 1582.5, 1587.5, 1592.5, 1597.5,\n",
       "       1605. , 1615. , 1625. , 1635. , 1645. , 1655. , 1665. , 1675. ,\n",
       "       1685. , 1695. , 1705. , 1715. , 1725. , 1735. , 1745. , 1755. ,\n",
       "       1765. , 1775. , 1785. , 1795. , 1805. , 1815. , 1825. , 1835. ,\n",
       "       1845. , 1855. , 1865. , 1875. , 1885. , 1895. , 1905. , 1915. ,\n",
       "       1925. , 1935. , 1945. , 1955. , 1965. , 1975. , 1985. , 1995. ,\n",
       "       2005. , 2015. , 2025. , 2035. , 2045. , 2055. , 2065. , 2075. ,\n",
       "       2085. , 2095. , 2105. , 2115. , 2125. , 2135. , 2145. , 2155. ,\n",
       "       2165. , 2175. , 2185. , 2195. , 2205. , 2215. , 2225. , 2235. ,\n",
       "       2245. , 2255. , 2265. , 2275. , 2285. , 2295. , 2305. , 2315. ,\n",
       "       2325. , 2335. , 2345. , 2355. , 2365. , 2375. , 2385. , 2395. ,\n",
       "       2405. , 2415. , 2425. , 2435. , 2445. , 2455. , 2465. , 2475. ,\n",
       "       2485. , 2495. , 2505. , 2515. , 2525. , 2535. , 2545. , 2555. ,\n",
       "       2565. , 2575. , 2585. , 2595. , 2605. , 2615. , 2625. , 2635. ,\n",
       "       2645. , 2655. , 2665. , 2675. , 2685. , 2695. , 2705. , 2715. ,\n",
       "       2725. , 2735. , 2745. , 2755. , 2765. , 2775. , 2785. , 2795. ,\n",
       "       2805. , 2815. , 2825. , 2835. , 2845. , 2855. , 2865. , 2875. ,\n",
       "       2885. , 2895. , 2905. , 2915. , 2925. , 2935. , 2945. , 2955. ,\n",
       "       2965. , 2975. , 2985. , 2995. , 3005. , 3015. , 3025. , 3035. ,\n",
       "       3045. , 3055. , 3065. , 3075. , 3085. , 3095. , 3105. , 3115. ,\n",
       "       3125. , 3135. , 3145. , 3155. , 3165. , 3175. , 3185. , 3195. ,\n",
       "       3210. , 3230. , 3250. , 3270. , 3290. , 3310. , 3330. , 3350. ,\n",
       "       3370. , 3390. , 3410. , 3430. , 3450. , 3470. , 3490. , 3510. ,\n",
       "       3530. , 3550. , 3570. , 3590. , 3610. , 3630. , 3650. , 3670. ,\n",
       "       3690. , 3710. , 3730. , 3750. , 3770. , 3790. , 3810. , 3830. ,\n",
       "       3850. , 3870. , 3890. , 3910. , 3930. , 3950. , 3970. , 3990. ,\n",
       "       4010. , 4030. , 4050. , 4070. , 4090. , 4110. , 4130. , 4150. ,\n",
       "       4170. , 4190. , 4210. , 4230. , 4250. , 4270. , 4290. , 4310. ,\n",
       "       4330. , 4350. , 4370. , 4390. , 4410. , 4430. , 4450. , 4470. ,\n",
       "       4490. , 4510. , 4530. , 4550. , 4570. , 4590. , 4610. , 4630. ,\n",
       "       4650. , 4670. , 4690. , 4710. , 4730. , 4750. , 4770. , 4790. ,\n",
       "       4810. , 4830. , 4850. , 4870. , 4890. , 4910. , 4930. , 4950. ,\n",
       "       4970. , 4990. , 5010. , 5030. , 5050. , 5070. , 5090. , 5110. ,\n",
       "       5130. , 5150. , 5170. , 5190. , 5210. , 5230. , 5250. , 5270. ,\n",
       "       5290. , 5310. , 5330. , 5350. , 5370. , 5390. , 5410. , 5430. ,\n",
       "       5450. , 5470. , 5490. , 5510. , 5530. , 5550. , 5570. , 5590. ,\n",
       "       5610. , 5630. , 5650. , 5670. , 5690. , 5710. , 5730. , 5750. ,\n",
       "       5770. , 5790. , 5810. , 5830. , 5850. , 5870. , 5890. , 5910. ,\n",
       "       5930. , 5950. , 5970. , 5990. ])"
      ]
     },
     "execution_count": 80,
     "metadata": {},
     "output_type": "execute_result"
    }
   ],
   "source": [
    "lamb_unit.to(u.nm)*wl[0]"
   ]
  },
  {
   "cell_type": "code",
   "execution_count": null,
   "metadata": {},
   "outputs": [],
   "source": [
    "indices=[]\n",
    "for i,j,k in np.ndindex((parameters.shape[0:-1])):\n",
    "    try:\n",
    "        idx=np.where([(np.prod(pars[_]==parameters[i,j,k])) for _ in range(len(pars))])[0]\n",
    "        \n",
    "        flux_grid[i,j,k]=fluxes[int(idx)]\n",
    "        indices.append(np.array([i,j,k]))\n",
    "    except:\n",
    "        continue\n",
    "\n",
    "interp=RegularGridInterpolator((feh_unique,logg_unique,teff_unique),flux_grid,method='linear',\n",
    "                                bounds_error=False, fill_value=np.NaN)   "
   ]
  },
  {
   "cell_type": "markdown",
   "metadata": {},
   "source": [
    "# Test fits pheonix\n"
   ]
  },
  {
   "cell_type": "code",
   "execution_count": 1,
   "metadata": {},
   "outputs": [],
   "source": [
    "import fitsio as fits"
   ]
  },
  {
   "cell_type": "code",
   "execution_count": 6,
   "metadata": {},
   "outputs": [],
   "source": [
    "import pandas as pd\n",
    "import astropy.io.fits\n",
    "import numpy as np"
   ]
  },
  {
   "cell_type": "code",
   "execution_count": 7,
   "metadata": {},
   "outputs": [],
   "source": [
    "par=fits.read('/Users/mattocallaghan/SEDNest/Data/Phoenix/phoenixm00_2000.fits',columns=['WAVELENGTH','g00','g05','g10','g15','g20','g25','g30','g35','g40','g45','g50','g55'])\n",
    "temp_file=astropy.io.fits.open('/Users/mattocallaghan/SEDNest/Data/Phoenix/phoenixm00_2000.fits')\n",
    "par=pd.DataFrame(np.stack(np.array(par,dtype=object)).astype(float),columns=[['WAVELENGTH','g00','g05','g10','g15','g20','g25','g30','g35','g40','g45','g50','g55']][::-1])\n",
    "par['TEFF']=temp_file[0].header['TEFF']\n",
    "par['MH']=temp_file[0].header['METAL10']\n",
    "par['WL_UNIT']=temp_file[1].header['TUNIT1']\n",
    "par['FLUX_UNIT']=temp_file[1].header['TUNIT2']"
   ]
  },
  {
   "cell_type": "code",
   "execution_count": 8,
   "metadata": {},
   "outputs": [],
   "source": [
    "par1=fits.read('/Users/mattocallaghan/SEDNest/Data/Phoenix/phoenixm05_5000.fits',columns=['WAVELENGTH','g00','g05','g10','g15','g20','g25','g30','g35','g40','g45','g50','g55'])\n",
    "temp_file1=astropy.io.fits.open('/Users/mattocallaghan/SEDNest/Data/Phoenix/phoenixm05_5000.fits')\n",
    "par1=pd.DataFrame(np.stack(np.array(par1,dtype=object)).astype(float),columns=[['WAVELENGTH','g00','g05','g10','g15','g20','g25','g30','g35','g40','g45','g50','g55']][::-1])\n",
    "par1['TEFF']=temp_file1[0].header['TEFF']\n",
    "par1['WL_UNIT']=temp_file1[1].header['TUNIT1']\n",
    "par1['FLUX_UNIT']=temp_file1[1].header['TUNIT2']\n",
    "\n",
    "try:\n",
    "    par1['MH']=temp_file1[0].header['METAL10']\n",
    "except:\n",
    "    par1['MH']=temp_file1[0].header['LOG_Z']"
   ]
  },
  {
   "cell_type": "code",
   "execution_count": null,
   "metadata": {},
   "outputs": [],
   "source": [
    "x=astropy.io.fits.open('/Users/mattocallaghan/SEDNest/Data/Phoenix/catalog.fits')"
   ]
  },
  {
   "cell_type": "code",
   "execution_count": null,
   "metadata": {},
   "outputs": [
    {
     "data": {
      "text/plain": [
       "XTENSION= 'BINTABLE'           / binary table extension                         \n",
       "BITPIX  =                    8 / array data type                                \n",
       "NAXIS   =                    2 / number of array dimensions                     \n",
       "NAXIS1  =                   80 / length of dimension 1                          \n",
       "NAXIS2  =                18636 / length of dimension 2                          \n",
       "PCOUNT  =                    0 / number of group parameters                     \n",
       "GCOUNT  =                    1 / number of groups                               \n",
       "TFIELDS =                    2 / number of table fields                         \n",
       "TTYPE1  = 'INDEX   '                                                            \n",
       "TFORM1  = '20A     '                                                            \n",
       "TTYPE2  = 'FILENAME'                                                            \n",
       "TFORM2  = '60A     '                                                            "
      ]
     },
     "execution_count": 182,
     "metadata": {},
     "output_type": "execute_result"
    }
   ],
   "source": [
    "x[1].header"
   ]
  },
  {
   "cell_type": "code",
   "execution_count": null,
   "metadata": {},
   "outputs": [
    {
     "data": {
      "text/plain": [
       "(0.0, 60000.0)"
      ]
     },
     "execution_count": 435,
     "metadata": {},
     "output_type": "execute_result"
    },
    {
     "data": {
      "image/png": "[encoded data removed]",
      "text/plain": [
       "<Figure size 640x480 with 1 Axes>"
      ]
     },
     "metadata": {},
     "output_type": "display_data"
    }
   ],
   "source": [
    "#plt.plot(par['WAVELENGTH'],par['g40']/par['g40'].max())\n",
    "plt.plot(par1['WAVELENGTH'],par1['g25'])\n",
    "plt.xlim(0,60000)"
   ]
  },
  {
   "cell_type": "code",
   "execution_count": 4,
   "metadata": {},
   "outputs": [],
   "source": [
    "wavelength_cut=706247\n"
   ]
  },
  {
   "cell_type": "code",
   "execution_count": 145,
   "metadata": {},
   "outputs": [],
   "source": [
    "import glob\n",
    "from scipy.interpolate import CubicSpline\n",
    "import numpy as np\n",
    "import pandas as pd\n",
    "import astropy.io.fits\n",
    "import pickle\n",
    "folder_path = '/Users/mattocallaghan/SEDNest/Data/Phoenix/'\n",
    "file_pattern = '*.fits'\n",
    "\n",
    "# Get a list of all FITS files in the folder\n",
    "fits_files = glob.glob(folder_path + file_pattern)\n",
    "def fitsread(fits_file,columns):\n",
    "    try: \n",
    "        par=fits.read(fits_file,columns=columns)\n",
    "        return par, columns\n",
    "    except:\n",
    "        columns=columns[:-1]\n",
    "        return fitsread(fits_file,columns)\n",
    "\n",
    "wavelength_cut=706247\n",
    "#This is the one with the smaller wavelenghts. We need this because solar isochrones have many sampled points and we want the same\n",
    "par1=fits.read('/Users/mattocallaghan/SEDNest/Data/Phoenix/phoenixm05_5000.fits',columns=['WAVELENGTH'])\n",
    "temp_file1=astropy.io.fits.open('/Users/mattocallaghan/SEDNest/Data/Phoenix/phoenixm05_5000.fits')\n",
    "wavelengths=pd.DataFrame(np.stack(np.array(par1,dtype=object)).astype(float),columns=['WAVELENGTH'])\n",
    "wavelengths=wavelengths[wavelengths['WAVELENGTH'].values<wavelength_cut].values[:,0] # weird shape\n",
    "\n",
    "tests=[]\n",
    "lens=[]\n",
    "dfs=[]\n",
    "teffs=[]\n",
    "fehs=[]\n",
    "wl=[]\n",
    "fluxes=[]\n",
    "logg_names = {'g00':0.0,'g05':0.5,'g10':1.0,'g15':1.5,'g20':2.0,'g25':2.5,'g30':3.0,'g35':3.5,'g40':4.0,'g45':4.5,'g50':5.0,'g55':5.5,'60':6.0}\n",
    "# Open each FITS file\n",
    "flag=True\n",
    "for fits_file in fits_files:\n",
    "    temp_file1=astropy.io.fits.open(fits_file)\n",
    "    if(float(temp_file1[0].header['TEFF'])<10000):\n",
    "        columns=['WAVELENGTH','g00','g05','g10','g15','g20','g25','g30','g35','g40','g45','g50','g55','60']\n",
    "\n",
    "        spectrum,columns=fitsread(fits_file,columns=columns)\n",
    "        \n",
    "        \n",
    "        spectrum=np.stack(np.array(spectrum,dtype=object)).astype(float)\n",
    "\n",
    "        spectrum=pd.DataFrame(np.stack(np.array(spectrum,dtype=object)),columns=[columns][::-1]).astype(float)\n",
    "        spectrum=spectrum[spectrum['WAVELENGTH'].values<wavelength_cut] # this cut should be fine for us becasue of our passbands\n",
    "\n",
    "        \n",
    "        if(len(spectrum)!=len(wavelengths)):\n",
    "            new_spectrum=pd.DataFrame(wavelengths,columns=[columns[0]])\n",
    "            for column in columns[1:]:\n",
    "                cs = CubicSpline(spectrum['WAVELENGTH'].values.reshape(len(spectrum)), spectrum[column].values[:,0])\n",
    "                new_spectrum[column]=cs(wavelengths) # weird shape of column values\n",
    "                \n",
    "            spectrum=new_spectrum\n",
    "\n",
    "\n",
    "\n",
    "        for column in columns[1:]:\n",
    "            dict_pars={'LOGG':logg_names[column],'TEFF':float(temp_file1[0].header['TEFF']),\n",
    "                                'WL_UNIT':temp_file1[1].header['TUNIT1'],'FLUX_UNIT':temp_file1[1].header['TUNIT2']}\n",
    "            new_spectrum=pd.DataFrame(dict_pars,index=[0])\n",
    "\n",
    "            #new_spectrum['FLUX']=spectrum[column].values #weird shape\n",
    "            #new_spectrum['LOGG']=logg_names[column]\n",
    "            #new_spectrum['TEFF']=float(temp_file1[0].header['TEFF'])\n",
    "            #new_spectrum['WL_UNIT']=temp_file1[1].header['TUNIT1']\n",
    "            #new_spectrum['FLUX_UNIT']=temp_file1[1].header['TUNIT2']\n",
    "            \n",
    "            if(flag):\n",
    "                fluxes=spectrum[column].values.astype(float).reshape(len(spectrum))[None,:]\n",
    "                flag=False\n",
    "            else:\n",
    "                f=spectrum[column].astype(float).values.reshape(len(spectrum))[None,:]\n",
    "                fluxes=np.concatenate([fluxes,f],axis=0)\n",
    "            \n",
    "\n",
    "            #fluxes.append(spectrum[column].values)\n",
    "\n",
    "            teffs.append(temp_file1[0].header['TEFF'])\n",
    "            \n",
    "            try:\n",
    "                new_spectrum['MH']=float(temp_file1[0].header['METAL10'])\n",
    "                fehs.append(temp_file1[0].header['METAL10'])\n",
    "            except:\n",
    "                new_spectrum['MH']=float(temp_file1[0].header['LOG_Z'])\n",
    "                fehs.append(temp_file1[0].header['LOG_Z'])\n",
    "            dfs.append(new_spectrum.reset_index(drop=True))\n",
    "\n",
    "spectra=pd.concat(dfs)\n",
    "sp_zero_flux=spectra#[spectra['FLUX']>0]\n",
    "sp_zero_flux.to_csv('../Data/phoenix_with_cuts')\n",
    "\n",
    "with open('../Data/phoenix_fluxes', 'wb') as file:\n",
    "           pickle.dump(fluxes, file)\n"
   ]
  },
  {
   "cell_type": "code",
   "execution_count": 146,
   "metadata": {},
   "outputs": [
    {
     "data": {
      "text/html": [
       "<div>\n",
       "<style scoped>\n",
       "    .dataframe tbody tr th:only-of-type {\n",
       "        vertical-align: middle;\n",
       "    }\n",
       "\n",
       "    .dataframe tbody tr th {\n",
       "        vertical-align: top;\n",
       "    }\n",
       "\n",
       "    .dataframe thead th {\n",
       "        text-align: right;\n",
       "    }\n",
       "</style>\n",
       "<table border=\"1\" class=\"dataframe\">\n",
       "  <thead>\n",
       "    <tr style=\"text-align: right;\">\n",
       "      <th></th>\n",
       "      <th>LOGG</th>\n",
       "      <th>TEFF</th>\n",
       "      <th>WL_UNIT</th>\n",
       "      <th>FLUX_UNIT</th>\n",
       "      <th>MH</th>\n",
       "    </tr>\n",
       "  </thead>\n",
       "  <tbody>\n",
       "    <tr>\n",
       "      <th>0</th>\n",
       "      <td>0.0</td>\n",
       "      <td>6900.0</td>\n",
       "      <td>ANGSTROM</td>\n",
       "      <td>FLAM</td>\n",
       "      <td>-4.0</td>\n",
       "    </tr>\n",
       "    <tr>\n",
       "      <th>0</th>\n",
       "      <td>0.5</td>\n",
       "      <td>6900.0</td>\n",
       "      <td>ANGSTROM</td>\n",
       "      <td>FLAM</td>\n",
       "      <td>-4.0</td>\n",
       "    </tr>\n",
       "    <tr>\n",
       "      <th>0</th>\n",
       "      <td>1.0</td>\n",
       "      <td>6900.0</td>\n",
       "      <td>ANGSTROM</td>\n",
       "      <td>FLAM</td>\n",
       "      <td>-4.0</td>\n",
       "    </tr>\n",
       "    <tr>\n",
       "      <th>0</th>\n",
       "      <td>1.5</td>\n",
       "      <td>6900.0</td>\n",
       "      <td>ANGSTROM</td>\n",
       "      <td>FLAM</td>\n",
       "      <td>-4.0</td>\n",
       "    </tr>\n",
       "    <tr>\n",
       "      <th>0</th>\n",
       "      <td>2.0</td>\n",
       "      <td>6900.0</td>\n",
       "      <td>ANGSTROM</td>\n",
       "      <td>FLAM</td>\n",
       "      <td>-4.0</td>\n",
       "    </tr>\n",
       "    <tr>\n",
       "      <th>...</th>\n",
       "      <td>...</td>\n",
       "      <td>...</td>\n",
       "      <td>...</td>\n",
       "      <td>...</td>\n",
       "      <td>...</td>\n",
       "    </tr>\n",
       "    <tr>\n",
       "      <th>0</th>\n",
       "      <td>3.5</td>\n",
       "      <td>3500.0</td>\n",
       "      <td>ANGSTROM</td>\n",
       "      <td>FLAM</td>\n",
       "      <td>-4.0</td>\n",
       "    </tr>\n",
       "    <tr>\n",
       "      <th>0</th>\n",
       "      <td>4.0</td>\n",
       "      <td>3500.0</td>\n",
       "      <td>ANGSTROM</td>\n",
       "      <td>FLAM</td>\n",
       "      <td>-4.0</td>\n",
       "    </tr>\n",
       "    <tr>\n",
       "      <th>0</th>\n",
       "      <td>4.5</td>\n",
       "      <td>3500.0</td>\n",
       "      <td>ANGSTROM</td>\n",
       "      <td>FLAM</td>\n",
       "      <td>-4.0</td>\n",
       "    </tr>\n",
       "    <tr>\n",
       "      <th>0</th>\n",
       "      <td>5.0</td>\n",
       "      <td>3500.0</td>\n",
       "      <td>ANGSTROM</td>\n",
       "      <td>FLAM</td>\n",
       "      <td>-4.0</td>\n",
       "    </tr>\n",
       "    <tr>\n",
       "      <th>0</th>\n",
       "      <td>5.5</td>\n",
       "      <td>3500.0</td>\n",
       "      <td>ANGSTROM</td>\n",
       "      <td>FLAM</td>\n",
       "      <td>-4.0</td>\n",
       "    </tr>\n",
       "  </tbody>\n",
       "</table>\n",
       "<p>8546 rows × 5 columns</p>\n",
       "</div>"
      ],
      "text/plain": [
       "    LOGG    TEFF   WL_UNIT FLUX_UNIT   MH\n",
       "0    0.0  6900.0  ANGSTROM      FLAM -4.0\n",
       "0    0.5  6900.0  ANGSTROM      FLAM -4.0\n",
       "0    1.0  6900.0  ANGSTROM      FLAM -4.0\n",
       "0    1.5  6900.0  ANGSTROM      FLAM -4.0\n",
       "0    2.0  6900.0  ANGSTROM      FLAM -4.0\n",
       "..   ...     ...       ...       ...  ...\n",
       "0    3.5  3500.0  ANGSTROM      FLAM -4.0\n",
       "0    4.0  3500.0  ANGSTROM      FLAM -4.0\n",
       "0    4.5  3500.0  ANGSTROM      FLAM -4.0\n",
       "0    5.0  3500.0  ANGSTROM      FLAM -4.0\n",
       "0    5.5  3500.0  ANGSTROM      FLAM -4.0\n",
       "\n",
       "[8546 rows x 5 columns]"
      ]
     },
     "execution_count": 146,
     "metadata": {},
     "output_type": "execute_result"
    }
   ],
   "source": [
    "spectra"
   ]
  },
  {
   "cell_type": "code",
   "execution_count": 126,
   "metadata": {},
   "outputs": [
    {
     "data": {
      "text/plain": [
       "(1, 4255)"
      ]
     },
     "execution_count": 126,
     "metadata": {},
     "output_type": "execute_result"
    }
   ],
   "source": [
    "fluxes.shape"
   ]
  },
  {
   "cell_type": "code",
   "execution_count": 1,
   "metadata": {},
   "outputs": [],
   "source": [
    "import seaborn as sn"
   ]
  },
  {
   "cell_type": "code",
   "execution_count": 13,
   "metadata": {},
   "outputs": [],
   "source": [
    "import pandas as pd\n",
    "sp_zero_flux=pd.read_csv('../Data/phoenix_with_cuts')"
   ]
  },
  {
   "cell_type": "code",
   "execution_count": 2,
   "metadata": {},
   "outputs": [],
   "source": [
    "\n",
    "import pandas as pd\n",
    "import numpy as np"
   ]
  },
  {
   "cell_type": "code",
   "execution_count": 5,
   "metadata": {},
   "outputs": [],
   "source": [
    "import fitsio as fits\n",
    "par1=fits.read('/Users/mattocallaghan/SEDNest/Data/Phoenix/phoenixm05_5000.fits',columns=['WAVELENGTH'])\n",
    "wavelengths=pd.DataFrame(np.stack(np.array(par1,dtype=object)).astype(float),columns=['WAVELENGTH',])\n",
    "wavelengths=wavelengths[wavelengths['WAVELENGTH'].values<wavelength_cut].values[:,0] # weird shape\n"
   ]
  },
  {
   "cell_type": "code",
   "execution_count": 25,
   "metadata": {},
   "outputs": [],
   "source": [
    "import fitsio as fits\n",
    "par1=fits.read('/Users/mattocallaghan/SEDNest/Data/Phoenix/phoenixm00_5000.fits',columns=['WAVELENGTH','g45'])\n",
    "wavelengths=pd.DataFrame(np.stack(np.array(par1,dtype=object)).astype(float),columns=['WAVELENGTH','g45'])\n",
    "#wavelengths=wavelengths[wavelengths['WAVELENGTH'].values<wavelength_cut].values[:,0] # weird shape\n"
   ]
  },
  {
   "cell_type": "code",
   "execution_count": 31,
   "metadata": {},
   "outputs": [
    {
     "data": {
      "text/plain": [
       "(300.0, 700.0)"
      ]
     },
     "execution_count": 31,
     "metadata": {},
     "output_type": "execute_result"
    },
    {
     "data": {
      "image/png": "[encoded data removed]",
      "text/plain": [
       "<Figure size 640x480 with 1 Axes>"
      ]
     },
     "metadata": {},
     "output_type": "display_data"
    }
   ],
   "source": [
    "plt.plot(wavelengths['WAVELENGTH']*0.1,wavelengths['g45'])\n",
    "plt.xlim(300,700)"
   ]
  },
  {
   "cell_type": "code",
   "execution_count": 9,
   "metadata": {},
   "outputs": [],
   "source": [
    "import pickle"
   ]
  },
  {
   "cell_type": "code",
   "execution_count": 10,
   "metadata": {},
   "outputs": [],
   "source": [
    "with open('Data/phoenix_fluxes', 'rb') as file:\n",
    "    fluxes = pickle.load(file)"
   ]
  },
  {
   "cell_type": "code",
   "execution_count": 18,
   "metadata": {},
   "outputs": [],
   "source": [
    "import matplotlib.pyplot as plt"
   ]
  },
  {
   "cell_type": "code",
   "execution_count": 19,
   "metadata": {},
   "outputs": [
    {
     "data": {
      "text/plain": [
       "(1400.0, 1600.0)"
      ]
     },
     "execution_count": 19,
     "metadata": {},
     "output_type": "execute_result"
    },
    {
     "data": {
      "image/png": "[encoded data removed]",
      "text/plain": [
       "<Figure size 640x480 with 1 Axes>"
      ]
     },
     "metadata": {},
     "output_type": "display_data"
    }
   ],
   "source": [
    "plt.plot(fluxes[1000])\n",
    "plt.xlim(1400,1600)"
   ]
  },
  {
   "cell_type": "code",
   "execution_count": 30,
   "metadata": {},
   "outputs": [],
   "source": [
    "with open('../Data/phoenix_fluxes', 'rb') as file:\n",
    "    fluxes = pickle.load(file)\n",
    "\n",
    "pars=np.stack([sp_zero_flux['MH'].astype(float).values,sp_zero_flux['LOGG'].astype(float).values,sp_zero_flux['TEFF'].astype(float).values]).T\n",
    "feh_unique=np.unique(sp_zero_flux['MH'].astype(float).values)\n",
    "logg_unique=np.unique(sp_zero_flux['LOGG'].astype(float).values)\n",
    "teff_unique=np.unique(sp_zero_flux['TEFF'].astype(float).values)\n",
    "#fluxes=sp_zero_flux['FLUX'].astype(float).values\n",
    "parameters=np.stack(np.meshgrid(feh_unique,logg_unique,teff_unique,indexing='ij'),axis=-1)\n",
    "flux_grid=(np.zeros((parameters.shape[:-1]+(len(wavelengths),)))*np.NaN)\n",
    "indices=[]\n",
    "for i,j,k in np.ndindex((parameters.shape[0:-1])):\n",
    "\n",
    "    idx=np.where([(np.prod(pars[_]==parameters[i,j,k])) for _ in range(len(pars))])[0]\n",
    "    if(len(idx)>0):\n",
    "        f=fluxes[int(idx)]\n",
    "        try:\n",
    "            flux_grid[i,j,k]=fluxes[int(idx)][:,0]\n",
    "            indices.append(np.array([i,j,k]))\n",
    "        except:\n",
    "            flux_grid[i,j,k]=fluxes[int(idx)][:]\n",
    "            indices.append(np.array([i,j,k]))\n",
    "\n",
    "    \n",
    "from scipy.interpolate import RegularGridInterpolator\n",
    "interp=RegularGridInterpolator((feh_unique,logg_unique,teff_unique),flux_grid,method='linear',\n",
    "                                bounds_error=False, fill_value=np.NaN)  \n"
   ]
  },
  {
   "cell_type": "code",
   "execution_count": 20,
   "metadata": {},
   "outputs": [
    {
     "ename": "OSError",
     "evalue": "[Errno 30] Read-only file system: '/interp_phoenix'",
     "output_type": "error",
     "traceback": [
      "\u001b[0;31m---------------------------------------------------------------------------\u001b[0m",
      "\u001b[0;31mOSError\u001b[0m                                   Traceback (most recent call last)",
      "Cell \u001b[0;32mIn[20], line 1\u001b[0m\n\u001b[0;32m----> 1\u001b[0m \u001b[38;5;28;01mwith\u001b[39;00m \u001b[38;5;28;43mopen\u001b[39;49m\u001b[43m(\u001b[49m\u001b[38;5;124;43m'\u001b[39;49m\u001b[38;5;124;43m/interp_phoenix\u001b[39;49m\u001b[38;5;124;43m'\u001b[39;49m\u001b[43m,\u001b[49m\u001b[43m \u001b[49m\u001b[38;5;124;43m'\u001b[39;49m\u001b[38;5;124;43mwb\u001b[39;49m\u001b[38;5;124;43m'\u001b[39;49m\u001b[43m)\u001b[49m \u001b[38;5;28;01mas\u001b[39;00m file:\n\u001b[1;32m      2\u001b[0m            pickle\u001b[38;5;241m.\u001b[39mdump(interp, file)\n",
      "File \u001b[0;32m/opt/homebrew/Caskroom/miniforge/base/envs/astro/lib/python3.8/site-packages/IPython/core/interactiveshell.py:282\u001b[0m, in \u001b[0;36m_modified_open\u001b[0;34m(file, *args, **kwargs)\u001b[0m\n\u001b[1;32m    <a href='file:///opt/homebrew/Caskroom/miniforge/base/envs/astro/lib/python3.8/site-packages/IPython/core/interactiveshell.py?line=274'>275</a>\u001b[0m \u001b[39mif\u001b[39;00m file \u001b[39min\u001b[39;00m {\u001b[39m0\u001b[39m, \u001b[39m1\u001b[39m, \u001b[39m2\u001b[39m}:\n\u001b[1;32m    <a href='file:///opt/homebrew/Caskroom/miniforge/base/envs/astro/lib/python3.8/site-packages/IPython/core/interactiveshell.py?line=275'>276</a>\u001b[0m     \u001b[39mraise\u001b[39;00m \u001b[39mValueError\u001b[39;00m(\n\u001b[1;32m    <a href='file:///opt/homebrew/Caskroom/miniforge/base/envs/astro/lib/python3.8/site-packages/IPython/core/interactiveshell.py?line=276'>277</a>\u001b[0m         \u001b[39mf\u001b[39m\u001b[39m\"\u001b[39m\u001b[39mIPython won\u001b[39m\u001b[39m'\u001b[39m\u001b[39mt let you open fd=\u001b[39m\u001b[39m{\u001b[39;00mfile\u001b[39m}\u001b[39;00m\u001b[39m by default \u001b[39m\u001b[39m\"\u001b[39m\n\u001b[1;32m    <a href='file:///opt/homebrew/Caskroom/miniforge/base/envs/astro/lib/python3.8/site-packages/IPython/core/interactiveshell.py?line=277'>278</a>\u001b[0m         \u001b[39m\"\u001b[39m\u001b[39mas it is likely to crash IPython. If you know what you are doing, \u001b[39m\u001b[39m\"\u001b[39m\n\u001b[1;32m    <a href='file:///opt/homebrew/Caskroom/miniforge/base/envs/astro/lib/python3.8/site-packages/IPython/core/interactiveshell.py?line=278'>279</a>\u001b[0m         \u001b[39m\"\u001b[39m\u001b[39myou can use builtins\u001b[39m\u001b[39m'\u001b[39m\u001b[39m open.\u001b[39m\u001b[39m\"\u001b[39m\n\u001b[1;32m    <a href='file:///opt/homebrew/Caskroom/miniforge/base/envs/astro/lib/python3.8/site-packages/IPython/core/interactiveshell.py?line=279'>280</a>\u001b[0m     )\n\u001b[0;32m--> <a href='file:///opt/homebrew/Caskroom/miniforge/base/envs/astro/lib/python3.8/site-packages/IPython/core/interactiveshell.py?line=281'>282</a>\u001b[0m \u001b[39mreturn\u001b[39;00m io_open(file, \u001b[39m*\u001b[39;49margs, \u001b[39m*\u001b[39;49m\u001b[39m*\u001b[39;49mkwargs)\n",
      "\u001b[0;31mOSError\u001b[0m: [Errno 30] Read-only file system: '/interp_phoenix'"
     ]
    }
   ],
   "source": [
    "with open('/interp_phoenix', 'wb') as file:\n",
    "           pickle.dump(interp, file)"
   ]
  },
  {
   "cell_type": "code",
   "execution_count": null,
   "metadata": {},
   "outputs": [],
   "source": []
  }
 ],
 "metadata": {
  "interpreter": {
   "hash": "0bb95e0f03a712b005f38a08e86b3d9ee1481e5da27c42212222567f4ca651c8"
  },
  "kernelspec": {
   "display_name": "Python 3.8.16 ('astro')",
   "language": "python",
   "name": "python3"
  },
  "language_info": {
   "codemirror_mode": {
    "name": "ipython",
    "version": 3
   },
   "file_extension": ".py",
   "mimetype": "text/x-python",
   "name": "python",
   "nbconvert_exporter": "python",
   "pygments_lexer": "ipython3",
   "version": "3.8.16"
  },
  "orig_nbformat": 4
 },
 "nbformat": 4,
 "nbformat_minor": 2
}
